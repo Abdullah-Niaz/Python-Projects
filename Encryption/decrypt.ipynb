{
 "cells": [
  {
   "cell_type": "code",
   "execution_count": 1,
   "metadata": {},
   "outputs": [
    {
     "name": "stdout",
     "output_type": "stream",
     "text": [
      "Char: [' ', 'a', 'b', 'c', 'd', 'e', 'f', 'g', 'h', 'i', 'j', 'k', 'l', 'm', 'n', 'o', 'p', 'q', 'r', 's', 't', 'u', 'v', 'w', 'x', 'y', 'z', 'A', 'B', 'C', 'D', 'E', 'F', 'G', 'H', 'I', 'J', 'K', 'L', 'M', 'N', 'O', 'P', 'Q', 'R', 'S', 'T', 'U', 'V', 'W', 'X', 'Y', 'Z', '0', '1', '2', '3', '4', '5', '6', '7', '8', '9', '!', '\"', '#', '$', '%', '&', \"'\", '(', ')', '*', '+', ',', '-', '.', '/', ':', ';', '<', '=', '>', '?', '@', '[', '\\\\', ']', '^', '_', '`', '{', '|', '}', '~']\n",
      "Key: ['x', 'v', 'A', '!', 'F', 'I', 'k', 'h', '?', 's', 'O', ';', 'G', 'Q', 'E', '+', '{', 'H', '^', 'c', ']', '_', '$', ' ', 'B', 'J', 'i', 'g', 'V', 'K', '2', 'r', '\"', 'b', '5', 'Y', '}', '0', 'p', 't', '<', '@', 'Z', '%', '-', '>', 'f', 'l', '`', '6', 'L', 'S', \"'\", '*', 'a', 'X', '|', 'n', 'z', 'T', 'C', '3', 'q', 'R', 'D', '\\\\', 'y', '8', 'N', '#', '1', 'o', '(', '[', 'j', '~', 'e', '9', '4', '&', ',', 'P', '=', 'M', ')', 'd', ':', '.', 'm', 'w', '/', 'W', 'U', 'u', '7']\n",
      "Orginial mesaage: abdullah45566\n",
      "Encrypted mesaage: vAF_GGv?nzzTT\n"
     ]
    }
   ],
   "source": [
    "import random\n",
    "import string\n",
    "\n",
    "char = \" \" + string.ascii_letters + string.digits + string.punctuation\n",
    "char = list(char)\n",
    "key = char.copy()\n",
    "random.shuffle(key)\n",
    "print(f\"Char: {char}\")\n",
    "print(f\"Key: {key}\")\n",
    "\n",
    "#Encryption\n",
    "\n",
    "simple_txt = input(\"Enter your message to encrypt: \")\n",
    "encrypted_txt = \"\"\n",
    "\n",
    "for letter in simple_txt:\n",
    "    index = char.index(letter)\n",
    "    encrypted_txt += key[index]\n",
    "\n",
    "print(f\"Orginial mesaage: {simple_txt}\")\n",
    "print(f\"Encrypted mesaage: {encrypted_txt}\")"
   ]
  }
 ],
 "metadata": {
  "kernelspec": {
   "display_name": "Python 3",
   "language": "python",
   "name": "python3"
  },
  "language_info": {
   "codemirror_mode": {
    "name": "ipython",
    "version": 3
   },
   "file_extension": ".py",
   "mimetype": "text/x-python",
   "name": "python",
   "nbconvert_exporter": "python",
   "pygments_lexer": "ipython3",
   "version": "3.11.5"
  }
 },
 "nbformat": 4,
 "nbformat_minor": 2
}
