{
 "cells": [
  {
   "cell_type": "code",
   "execution_count": 1,
   "metadata": {},
   "outputs": [
    {
     "ename": "ModuleNotFoundError",
     "evalue": "No module named 'cv2'",
     "output_type": "error",
     "traceback": [
      "\u001b[1;31m---------------------------------------------------------------------------\u001b[0m",
      "\u001b[1;31mModuleNotFoundError\u001b[0m                       Traceback (most recent call last)",
      "\u001b[1;32md:\\PS\\python-projects\\Image and video processing in python\\script1.ipynb Cell 1\u001b[0m line \u001b[0;36m1\n\u001b[1;32m----> <a href='vscode-notebook-cell:/d%3A/PS/python-projects/Image%20and%20video%20processing%20in%20python/script1.ipynb#W0sZmlsZQ%3D%3D?line=0'>1</a>\u001b[0m \u001b[39mimport\u001b[39;00m \u001b[39mcv2\u001b[39;00m\n",
      "\u001b[1;31mModuleNotFoundError\u001b[0m: No module named 'cv2'"
     ]
    }
   ],
   "source": [
    "import cv2"
   ]
  },
  {
   "cell_type": "code",
   "execution_count": null,
   "metadata": {},
   "outputs": [
    {
     "data": {
      "text/plain": [
       "True"
      ]
     },
     "execution_count": 4,
     "metadata": {},
     "output_type": "execute_result"
    }
   ],
   "source": [
    "m = cv2.imread(\"glaxay.jpg\",1)\n",
    "\n",
    "#To rezie the image \n",
    "resize_image=cv2.resize(m,(1000,600))\n",
    "# To show image on the screen\n",
    "cv2.imshow(\"Galaxy\",resize_image)\n",
    "# Time\n",
    "cv2.waitKey(0)\n",
    "# To destroy window( close the terminal)\n",
    "cv2.destroyAllWindows()\n",
    "cv2.imwrite(\"Galaxy.jpg\",resize_image)"
   ]
  },
  {
   "cell_type": "code",
   "execution_count": null,
   "metadata": {},
   "outputs": [],
   "source": [
    "import cv2\n",
    "import glob\n",
    "images=glob.glob(\"*.jpg\")\n",
    "for image in images:\n",
    "    img=cv2.imread(image,0) # 0 for black and white and 1 for gray\n",
    "    image_resize=cv2.resize(img,(100,100)) # (image_width,image_hieght)\n",
    "    cv2.imshow(\"Hey\",image_resize)\n",
    "    cv2.waitKey(0)\n",
    "    cv2.destroyAllWindows()\n",
    "    cv2.imwrite(\"resized_\"+image,resize_image)"
   ]
  }
 ],
 "metadata": {
  "kernelspec": {
   "display_name": "Python 3",
   "language": "python",
   "name": "python3"
  },
  "language_info": {
   "codemirror_mode": {
    "name": "ipython",
    "version": 3
   },
   "file_extension": ".py",
   "mimetype": "text/x-python",
   "name": "python",
   "nbconvert_exporter": "python",
   "pygments_lexer": "ipython3",
   "version": "3.11.3"
  },
  "orig_nbformat": 4,
  "vscode": {
   "interpreter": {
    "hash": "75eef46696976f9d99545f8398d5cc026a55ac773bd21dca42ce1aa59af96408"
   }
  }
 },
 "nbformat": 4,
 "nbformat_minor": 2
}
