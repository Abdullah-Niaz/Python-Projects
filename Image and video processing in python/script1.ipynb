{
 "cells": [
  {
   "cell_type": "code",
   "execution_count": 3,
   "metadata": {},
   "outputs": [],
   "source": [
    "import cv2"
   ]
  },
  {
   "cell_type": "code",
   "execution_count": null,
   "metadata": {},
   "outputs": [
    {
     "data": {
      "text/plain": [
       "True"
      ]
     },
     "execution_count": 4,
     "metadata": {},
     "output_type": "execute_result"
    }
   ],
   "source": [
    "m = cv2.imread(\"glaxay.jpg\",1)\n",
    "\n",
    "#To rezie the image \n",
    "resize_image=cv2.resize(m,(1000,600))\n",
    "# To show image on the screen\n",
    "cv2.imshow(\"Galaxy\",resize_image)\n",
    "# Time\n",
    "cv2.waitKey(0)\n",
    "# To destroy window( close the terminal)\n",
    "cv2.destroyAllWindows()\n",
    "cv2.imwrite(\"Galaxy.jpg\",resize_image)"
   ]
  },
  {
   "cell_type": "code",
   "execution_count": null,
   "metadata": {},
   "outputs": [],
   "source": [
    "import cv2\n",
    "import glob\n",
    "images=glob.glob(\"*.jpg\")\n",
    "for image in images:\n",
    "    img=cv2.imread(image,0) # 0 for black and white and 1 for gray\n",
    "    image_resize=cv2.resize(img,(100,100)) # (image_width,image_hieght)\n",
    "    cv2.imshow(\"Hey\",image_resize)\n",
    "    cv2.waitKey(0)\n",
    "    cv2.destroyAllWindows()\n",
    "    cv2.imwrite(\"resized_\"+image,resize_image)"
   ]
  }
 ],
 "metadata": {
  "kernelspec": {
   "display_name": "Python 3",
   "language": "python",
   "name": "python3"
  },
  "language_info": {
   "codemirror_mode": {
    "name": "ipython",
    "version": 3
   },
   "file_extension": ".py",
   "mimetype": "text/x-python",
   "name": "python",
   "nbconvert_exporter": "python",
   "pygments_lexer": "ipython3",
   "version": "3.11.1"
  },
  "orig_nbformat": 4,
  "vscode": {
   "interpreter": {
    "hash": "75eef46696976f9d99545f8398d5cc026a55ac773bd21dca42ce1aa59af96408"
   }
  }
 },
 "nbformat": 4,
 "nbformat_minor": 2
}
