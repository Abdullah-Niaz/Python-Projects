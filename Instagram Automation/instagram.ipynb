{
 "cells": [
  {
   "cell_type": "code",
   "execution_count": 9,
   "metadata": {},
   "outputs": [
    {
     "name": "stderr",
     "output_type": "stream",
     "text": [
      "2023-01-31 19:35:56,460 - INFO - Instabot version: 0.117.0 Started\n",
      "2023-01-31 19:35:56,460 - INFO - Instabot version: 0.117.0 Started\n",
      "2023-01-31 19:35:56,460 - INFO - Instabot version: 0.117.0 Started\n",
      "2023-01-31 19:35:56,460 - INFO - Instabot version: 0.117.0 Started\n",
      "2023-01-31 19:35:56,460 - INFO - Instabot version: 0.117.0 Started\n",
      "2023-01-31 19:35:56,460 - INFO - Instabot version: 0.117.0 Started\n",
      "2023-01-31 19:35:56,460 - INFO - Instabot version: 0.117.0 Started\n",
      "2023-01-31 19:35:56,460 - INFO - Instabot version: 0.117.0 Started\n",
      "2023-01-31 19:35:56,460 - INFO - Instabot version: 0.117.0 Started\n"
     ]
    },
    {
     "ename": "KeyError",
     "evalue": "'ds_user'",
     "output_type": "error",
     "traceback": [
      "\u001b[1;31m---------------------------------------------------------------------------\u001b[0m",
      "\u001b[1;31mKeyError\u001b[0m                                  Traceback (most recent call last)",
      "Cell \u001b[1;32mIn[9], line 3\u001b[0m\n\u001b[0;32m      1\u001b[0m \u001b[39mfrom\u001b[39;00m \u001b[39minstabot\u001b[39;00m \u001b[39mimport\u001b[39;00m Bot\n\u001b[0;32m      2\u001b[0m bot \u001b[39m=\u001b[39m Bot()\n\u001b[1;32m----> 3\u001b[0m bot\u001b[39m.\u001b[39;49mlogin(username\u001b[39m=\u001b[39;49m\u001b[39m\"\u001b[39;49m\u001b[39mesthetic__09\u001b[39;49m\u001b[39m\"\u001b[39;49m, password\u001b[39m=\u001b[39;49m\u001b[39m\"\u001b[39;49m\u001b[39m1026176152751\u001b[39;49m\u001b[39m\"\u001b[39;49m)\n\u001b[0;32m      4\u001b[0m bot\u001b[39m.\u001b[39mfollow(\u001b[39m\"\u001b[39m\u001b[39mgeeks_for_geeks\u001b[39m\u001b[39m\"\u001b[39m)\n",
      "File \u001b[1;32mc:\\Users\\abdul\\AppData\\Local\\Programs\\Python\\Python311\\Lib\\site-packages\\instabot\\bot\\bot.py:443\u001b[0m, in \u001b[0;36mBot.login\u001b[1;34m(self, **args)\u001b[0m\n\u001b[0;32m    441\u001b[0m \u001b[39mif\u001b[39;00m \u001b[39mself\u001b[39m\u001b[39m.\u001b[39mproxy:\n\u001b[0;32m    442\u001b[0m     args[\u001b[39m\"\u001b[39m\u001b[39mproxy\u001b[39m\u001b[39m\"\u001b[39m] \u001b[39m=\u001b[39m \u001b[39mself\u001b[39m\u001b[39m.\u001b[39mproxy\n\u001b[1;32m--> 443\u001b[0m \u001b[39mif\u001b[39;00m \u001b[39mself\u001b[39;49m\u001b[39m.\u001b[39;49mapi\u001b[39m.\u001b[39;49mlogin(\u001b[39m*\u001b[39;49m\u001b[39m*\u001b[39;49margs) \u001b[39mis\u001b[39;00m \u001b[39mFalse\u001b[39;00m:\n\u001b[0;32m    444\u001b[0m     \u001b[39mreturn\u001b[39;00m \u001b[39mFalse\u001b[39;00m\n\u001b[0;32m    445\u001b[0m \u001b[39mself\u001b[39m\u001b[39m.\u001b[39mprepare()\n",
      "File \u001b[1;32mc:\\Users\\abdul\\AppData\\Local\\Programs\\Python\\Python311\\Lib\\site-packages\\instabot\\api\\api.py:240\u001b[0m, in \u001b[0;36mAPI.login\u001b[1;34m(self, username, password, force, proxy, use_cookie, use_uuid, cookie_fname, ask_for_code, set_device, generate_all_uuids, is_threaded)\u001b[0m\n\u001b[0;32m    235\u001b[0m msg \u001b[39m=\u001b[39m \u001b[39m\"\u001b[39m\u001b[39mLogin flow failed, the cookie is broken. Relogin again.\u001b[39m\u001b[39m\"\u001b[39m\n\u001b[0;32m    237\u001b[0m \u001b[39mif\u001b[39;00m use_cookie \u001b[39mis\u001b[39;00m \u001b[39mTrue\u001b[39;00m:\n\u001b[0;32m    238\u001b[0m     \u001b[39m# try:\u001b[39;00m\n\u001b[0;32m    239\u001b[0m     \u001b[39mif\u001b[39;00m (\n\u001b[1;32m--> 240\u001b[0m         \u001b[39mself\u001b[39;49m\u001b[39m.\u001b[39;49mload_uuid_and_cookie(load_cookie\u001b[39m=\u001b[39;49muse_cookie, load_uuid\u001b[39m=\u001b[39;49muse_uuid)\n\u001b[0;32m    241\u001b[0m         \u001b[39mis\u001b[39;00m \u001b[39mTrue\u001b[39;00m\n\u001b[0;32m    242\u001b[0m     ):\n\u001b[0;32m    243\u001b[0m         \u001b[39m# Check if the token loaded is valid.\u001b[39;00m\n\u001b[0;32m    244\u001b[0m         \u001b[39mif\u001b[39;00m \u001b[39mself\u001b[39m\u001b[39m.\u001b[39mlogin_flow(\u001b[39mFalse\u001b[39;00m) \u001b[39mis\u001b[39;00m \u001b[39mTrue\u001b[39;00m:\n\u001b[0;32m    245\u001b[0m             cookie_is_loaded \u001b[39m=\u001b[39m \u001b[39mTrue\u001b[39;00m\n",
      "File \u001b[1;32mc:\\Users\\abdul\\AppData\\Local\\Programs\\Python\\Python311\\Lib\\site-packages\\instabot\\api\\api.py:199\u001b[0m, in \u001b[0;36mAPI.load_uuid_and_cookie\u001b[1;34m(self, load_uuid, load_cookie)\u001b[0m\n\u001b[0;32m    198\u001b[0m \u001b[39mdef\u001b[39;00m \u001b[39mload_uuid_and_cookie\u001b[39m(\u001b[39mself\u001b[39m, load_uuid\u001b[39m=\u001b[39m\u001b[39mTrue\u001b[39;00m, load_cookie\u001b[39m=\u001b[39m\u001b[39mTrue\u001b[39;00m):\n\u001b[1;32m--> 199\u001b[0m     \u001b[39mreturn\u001b[39;00m load_uuid_and_cookie(\u001b[39mself\u001b[39;49m, load_uuid\u001b[39m=\u001b[39;49mload_uuid, load_cookie\u001b[39m=\u001b[39;49mload_cookie)\n",
      "File \u001b[1;32mc:\\Users\\abdul\\AppData\\Local\\Programs\\Python\\Python311\\Lib\\site-packages\\instabot\\api\\api_login.py:356\u001b[0m, in \u001b[0;36mload_uuid_and_cookie\u001b[1;34m(self, load_uuid, load_cookie)\u001b[0m\n\u001b[0;32m    352\u001b[0m \u001b[39mself\u001b[39m\u001b[39m.\u001b[39mlogger\u001b[39m.\u001b[39mdebug(\u001b[39m\"\u001b[39m\u001b[39mLoading cookies\u001b[39m\u001b[39m\"\u001b[39m)\n\u001b[0;32m    353\u001b[0m \u001b[39mself\u001b[39m\u001b[39m.\u001b[39msession\u001b[39m.\u001b[39mcookies \u001b[39m=\u001b[39m requests\u001b[39m.\u001b[39mutils\u001b[39m.\u001b[39mcookiejar_from_dict(\n\u001b[0;32m    354\u001b[0m     data[\u001b[39m\"\u001b[39m\u001b[39mcookie\u001b[39m\u001b[39m\"\u001b[39m]\n\u001b[0;32m    355\u001b[0m )\n\u001b[1;32m--> 356\u001b[0m cookie_username \u001b[39m=\u001b[39m \u001b[39mself\u001b[39;49m\u001b[39m.\u001b[39;49mcookie_dict[\u001b[39m\"\u001b[39;49m\u001b[39mds_user\u001b[39;49m\u001b[39m\"\u001b[39;49m]\n\u001b[0;32m    357\u001b[0m \u001b[39massert\u001b[39;00m cookie_username \u001b[39m==\u001b[39m \u001b[39mself\u001b[39m\u001b[39m.\u001b[39musername\u001b[39m.\u001b[39mlower()\n\u001b[0;32m    358\u001b[0m \u001b[39mself\u001b[39m\u001b[39m.\u001b[39mcookie_dict[\u001b[39m\"\u001b[39m\u001b[39murlgen\u001b[39m\u001b[39m\"\u001b[39m]\n",
      "\u001b[1;31mKeyError\u001b[0m: 'ds_user'"
     ]
    }
   ],
   "source": [
    "from instabot import Bot\n",
    "bot = Bot()\n",
    "bot.login(username=\"esthetic__09\", password=\"1026176152751\")\n",
    "bot.follow(\"geeks_for_geeks\")"
   ]
  }
 ],
 "metadata": {
  "kernelspec": {
   "display_name": "Python 3",
   "language": "python",
   "name": "python3"
  },
  "language_info": {
   "codemirror_mode": {
    "name": "ipython",
    "version": 3
   },
   "file_extension": ".py",
   "mimetype": "text/x-python",
   "name": "python",
   "nbconvert_exporter": "python",
   "pygments_lexer": "ipython3",
   "version": "3.11.1"
  },
  "orig_nbformat": 4,
  "vscode": {
   "interpreter": {
    "hash": "75eef46696976f9d99545f8398d5cc026a55ac773bd21dca42ce1aa59af96408"
   }
  }
 },
 "nbformat": 4,
 "nbformat_minor": 2
}
