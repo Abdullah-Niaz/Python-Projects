{
 "cells": [
  {
   "cell_type": "code",
   "execution_count": 9,
   "id": "82aa693b",
   "metadata": {},
   "outputs": [],
   "source": [
    "import numpy  as np\n",
    "import cv2 as cv"
   ]
  },
  {
   "cell_type": "code",
   "execution_count": 10,
   "id": "72d84185",
   "metadata": {},
   "outputs": [],
   "source": [
    "# Makinga a blank image\n",
    "blank = np.zeros((500,500,3), dtype=\"uint8\")\n",
    "cv.imshow(\"Blank\",blank)\n",
    "cv.waitKey(0)\n",
    "cv.destroyAllWindows()"
   ]
  },
  {
   "cell_type": "code",
   "execution_count": 13,
   "id": "13ea0f29",
   "metadata": {},
   "outputs": [],
   "source": [
    "# In order to add a color in your image\n",
    "\n",
    "color = np.zeros((1000,1000,3),dtype=\"uint8\")\n",
    "color[:] = 0,0,255\n",
    "cv.imshow(\"Colored_image\",color)\n",
    "cv.waitKey(0)\n",
    "cv.destroyAllWindows()"
   ]
  },
  {
   "cell_type": "code",
   "execution_count": 20,
   "id": "b5f7d2df",
   "metadata": {},
   "outputs": [],
   "source": [
    "# Draw a rectangle\n",
    "rectangle=np.zeros((500,500))\n",
    "cv.rectangle(rectangle,(0,0),(300,300),(256,255,0),thickness=4)\n",
    "cv.imshow(\"Rectangle_shape\",rectangle)\n",
    "cv.waitKey(0)\n",
    "cv.destroyAllWindows()"
   ]
  }
 ],
 "metadata": {
  "kernelspec": {
   "display_name": "Python 3 (ipykernel)",
   "language": "python",
   "name": "python3"
  },
  "language_info": {
   "codemirror_mode": {
    "name": "ipython",
    "version": 3
   },
   "file_extension": ".py",
   "mimetype": "text/x-python",
   "name": "python",
   "nbconvert_exporter": "python",
   "pygments_lexer": "ipython3",
   "version": "3.9.7"
  }
 },
 "nbformat": 4,
 "nbformat_minor": 5
}
