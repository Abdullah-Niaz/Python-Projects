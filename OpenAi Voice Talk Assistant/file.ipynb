{
 "cells": [
  {
   "cell_type": "code",
   "execution_count": 2,
   "metadata": {},
   "outputs": [
    {
     "name": "stdout",
     "output_type": "stream",
     "text": [
      "speak now...\n"
     ]
    },
    {
     "ename": "AttributeError",
     "evalue": "'NoneType' object has no attribute 'close'",
     "output_type": "error",
     "traceback": [
      "\u001b[1;31m---------------------------------------------------------------------------\u001b[0m",
      "\u001b[1;31mAssertionError\u001b[0m                            Traceback (most recent call last)",
      "Cell \u001b[1;32mIn[2], line 12\u001b[0m\n\u001b[0;32m     11\u001b[0m \u001b[39mprint\u001b[39m(\u001b[39m\"\u001b[39m\u001b[39mspeak now...\u001b[39m\u001b[39m\"\u001b[39m)\n\u001b[1;32m---> 12\u001b[0m voice \u001b[39m=\u001b[39m listener\u001b[39m.\u001b[39;49mlisten(source)\n\u001b[0;32m     13\u001b[0m data \u001b[39m=\u001b[39m listener\u001b[39m.\u001b[39mrecognize_google(voice)\n",
      "File \u001b[1;32mc:\\Users\\abdul\\AppData\\Local\\Programs\\Python\\Python311\\Lib\\site-packages\\speech_recognition\\__init__.py:465\u001b[0m, in \u001b[0;36mRecognizer.listen\u001b[1;34m(self, source, timeout, phrase_time_limit, snowboy_configuration)\u001b[0m\n\u001b[0;32m    464\u001b[0m \u001b[39massert\u001b[39;00m \u001b[39misinstance\u001b[39m(source, AudioSource), \u001b[39m\"\u001b[39m\u001b[39mSource must be an audio source\u001b[39m\u001b[39m\"\u001b[39m\n\u001b[1;32m--> 465\u001b[0m \u001b[39massert\u001b[39;00m source\u001b[39m.\u001b[39mstream \u001b[39mis\u001b[39;00m \u001b[39mnot\u001b[39;00m \u001b[39mNone\u001b[39;00m, \u001b[39m\"\u001b[39m\u001b[39mAudio source must be entered before listening, see documentation for ``AudioSource``; are you using ``source`` outside of a ``with`` statement?\u001b[39m\u001b[39m\"\u001b[39m\n\u001b[0;32m    466\u001b[0m \u001b[39massert\u001b[39;00m \u001b[39mself\u001b[39m\u001b[39m.\u001b[39mpause_threshold \u001b[39m>\u001b[39m\u001b[39m=\u001b[39m \u001b[39mself\u001b[39m\u001b[39m.\u001b[39mnon_speaking_duration \u001b[39m>\u001b[39m\u001b[39m=\u001b[39m \u001b[39m0\u001b[39m\n",
      "\u001b[1;31mAssertionError\u001b[0m: Audio source must be entered before listening, see documentation for ``AudioSource``; are you using ``source`` outside of a ``with`` statement?",
      "\nDuring handling of the above exception, another exception occurred:\n",
      "\u001b[1;31mAttributeError\u001b[0m                            Traceback (most recent call last)",
      "Cell \u001b[1;32mIn[2], line 10\u001b[0m\n\u001b[0;32m      8\u001b[0m \u001b[39mwhile\u001b[39;00m \u001b[39mTrue\u001b[39;00m:\n\u001b[0;32m      9\u001b[0m     listener \u001b[39m=\u001b[39msr\u001b[39m.\u001b[39mRecognizer()\n\u001b[1;32m---> 10\u001b[0m     \u001b[39mwith\u001b[39;49;00m sr\u001b[39m.\u001b[39;49mMicrophone() \u001b[39mas\u001b[39;49;00m source:\n\u001b[0;32m     11\u001b[0m         \u001b[39mprint\u001b[39;49m(\u001b[39m\"\u001b[39;49m\u001b[39mspeak now...\u001b[39;49m\u001b[39m\"\u001b[39;49m)\n\u001b[0;32m     12\u001b[0m         voice \u001b[39m=\u001b[39;49m listener\u001b[39m.\u001b[39;49mlisten(source)\n",
      "File \u001b[1;32mc:\\Users\\abdul\\AppData\\Local\\Programs\\Python\\Python311\\Lib\\site-packages\\speech_recognition\\__init__.py:189\u001b[0m, in \u001b[0;36mMicrophone.__exit__\u001b[1;34m(self, exc_type, exc_value, traceback)\u001b[0m\n\u001b[0;32m    187\u001b[0m \u001b[39mdef\u001b[39;00m \u001b[39m__exit__\u001b[39m(\u001b[39mself\u001b[39m, exc_type, exc_value, traceback):\n\u001b[0;32m    188\u001b[0m     \u001b[39mtry\u001b[39;00m:\n\u001b[1;32m--> 189\u001b[0m         \u001b[39mself\u001b[39;49m\u001b[39m.\u001b[39;49mstream\u001b[39m.\u001b[39;49mclose()\n\u001b[0;32m    190\u001b[0m     \u001b[39mfinally\u001b[39;00m:\n\u001b[0;32m    191\u001b[0m         \u001b[39mself\u001b[39m\u001b[39m.\u001b[39mstream \u001b[39m=\u001b[39m \u001b[39mNone\u001b[39;00m\n",
      "\u001b[1;31mAttributeError\u001b[0m: 'NoneType' object has no attribute 'close'"
     ]
    }
   ],
   "source": [
    "import openai\n",
    "import speech_recognition as sr\n",
    "import pyttsx3\n",
    "engine = pyttsx3.init()\n",
    "openai.api_key = \"provide your api key here\"\n",
    "\n",
    "\n",
    "while True:\n",
    "    listener =sr.Recognizer()\n",
    "    with sr.Microphone() as source:\n",
    "        print(\"speak now...\")\n",
    "        voice = listener.listen(source)\n",
    "        data = listener.recognize_google(voice)\n",
    "        model = \"text-davinci-003\"\n",
    "\n",
    "        if \"exit\" in data:\n",
    "            break\n",
    "\n",
    "    completion = openai.Completion.create(model =\"text-davinci-003\",\n",
    "      prompt = data,\n",
    "      max_tokens = 1024,\n",
    "      temperature = 0.5,\n",
    "      n = 1,\n",
    "      stop = None)\n",
    "    response = completion.choices[0].text\n",
    "    choice = int(input(\"press 1 to print the response or press 2 to print and hear the response: \"))\n",
    "\n",
    "    if choice == 1:\n",
    "        print(response)\n",
    "    else:\n",
    "        print(response)\n",
    "        engine.say(response)\n",
    "        engine.runAndWait()\n",
    "\n",
    "    repeat = input(\"do you want to ask more questions?: \")\n",
    "    if repeat in [\"no\",\"No\",\"NO\"]:\n",
    "        break"
   ]
  }
 ],
 "metadata": {
  "kernelspec": {
   "display_name": "Python 3",
   "language": "python",
   "name": "python3"
  },
  "language_info": {
   "codemirror_mode": {
    "name": "ipython",
    "version": 3
   },
   "file_extension": ".py",
   "mimetype": "text/x-python",
   "name": "python",
   "nbconvert_exporter": "python",
   "pygments_lexer": "ipython3",
   "version": "3.11.2"
  },
  "orig_nbformat": 4
 },
 "nbformat": 4,
 "nbformat_minor": 2
}
