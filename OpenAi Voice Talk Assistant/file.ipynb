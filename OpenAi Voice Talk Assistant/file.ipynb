{
 "cells": [
  {
   "cell_type": "code",
   "execution_count": 1,
   "metadata": {},
   "outputs": [
    {
     "ename": "ModuleNotFoundError",
     "evalue": "No module named 'openai'",
     "output_type": "error",
     "traceback": [
      "\u001b[1;31m---------------------------------------------------------------------------\u001b[0m",
      "\u001b[1;31mModuleNotFoundError\u001b[0m                       Traceback (most recent call last)",
      "Cell \u001b[1;32mIn[1], line 1\u001b[0m\n\u001b[1;32m----> 1\u001b[0m \u001b[38;5;28;01mimport\u001b[39;00m \u001b[38;5;21;01mopenai\u001b[39;00m\n\u001b[0;32m      2\u001b[0m \u001b[38;5;28;01mimport\u001b[39;00m \u001b[38;5;21;01mspeech_recognition\u001b[39;00m \u001b[38;5;28;01mas\u001b[39;00m \u001b[38;5;21;01msr\u001b[39;00m\n\u001b[0;32m      3\u001b[0m \u001b[38;5;28;01mimport\u001b[39;00m \u001b[38;5;21;01mpyttsx3\u001b[39;00m\n",
      "\u001b[1;31mModuleNotFoundError\u001b[0m: No module named 'openai'"
     ]
    }
   ],
   "source": [
    "import openai\n",
    "import speech_recognition as sr\n",
    "import pyttsx3\n",
    "engine = pyttsx3.init()\n",
    "openai.api_key = \"provide your api key here\"\n",
    "\n",
    "\n",
    "while True:\n",
    "    listener =sr.Recognizer()\n",
    "    with sr.Microphone() as source:\n",
    "        print(\"speak now...\")\n",
    "        voice = listener.listen(source)\n",
    "        data = listener.recognize_google(voice)\n",
    "        model = \"text-davinci-003\"\n",
    "\n",
    "        if \"exit\" in data:\n",
    "            break\n",
    "\n",
    "    completion = openai.Completion.create(model =\"text-davinci-003\",\n",
    "      prompt = data,\n",
    "      max_tokens = 1024,\n",
    "      temperature = 0.5,\n",
    "      n = 1,\n",
    "      stop = None)\n",
    "    response = completion.choices[0].text\n",
    "    choice = int(input(\"press 1 to print the response or press 2 to print and hear the response: \"))\n",
    "\n",
    "    if choice == 1:\n",
    "        print(response)\n",
    "    else:\n",
    "        print(response)\n",
    "        engine.say(response)\n",
    "        engine.runAndWait()\n",
    "\n",
    "    repeat = input(\"do you want to ask more questions?: \")\n",
    "    if repeat in [\"no\",\"No\",\"NO\"]:\n",
    "        break"
   ]
  }
 ],
 "metadata": {
  "kernelspec": {
   "display_name": "Python 3",
   "language": "python",
   "name": "python3"
  },
  "language_info": {
   "codemirror_mode": {
    "name": "ipython",
    "version": 3
   },
   "file_extension": ".py",
   "mimetype": "text/x-python",
   "name": "python",
   "nbconvert_exporter": "python",
   "pygments_lexer": "ipython3",
   "version": "3.11.5"
  },
  "orig_nbformat": 4
 },
 "nbformat": 4,
 "nbformat_minor": 2
}
