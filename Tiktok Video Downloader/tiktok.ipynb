{
 "cells": [
  {
   "cell_type": "code",
   "execution_count": 3,
   "metadata": {},
   "outputs": [
    {
     "ename": "ModuleNotFoundError",
     "evalue": "No module named 'pytiktok'",
     "output_type": "error",
     "traceback": [
      "\u001b[1;31m---------------------------------------------------------------------------\u001b[0m",
      "\u001b[1;31mModuleNotFoundError\u001b[0m                       Traceback (most recent call last)",
      "\u001b[1;32md:\\PS\\python-projects\\Tiktok Video Downloader\\tiktok.ipynb Cell 1\u001b[0m line \u001b[0;36m1\n\u001b[1;32m----> <a href='vscode-notebook-cell:/d%3A/PS/python-projects/Tiktok%20Video%20Downloader/tiktok.ipynb#W0sZmlsZQ%3D%3D?line=0'>1</a>\u001b[0m \u001b[39mfrom\u001b[39;00m \u001b[39mpytiktok\u001b[39;00m \u001b[39mimport\u001b[39;00m TikTok\n\u001b[0;32m      <a href='vscode-notebook-cell:/d%3A/PS/python-projects/Tiktok%20Video%20Downloader/tiktok.ipynb#W0sZmlsZQ%3D%3D?line=2'>3</a>\u001b[0m \u001b[39m# Replace 'video_url' with the URL of the TikTok video you want to download\u001b[39;00m\n\u001b[0;32m      <a href='vscode-notebook-cell:/d%3A/PS/python-projects/Tiktok%20Video%20Downloader/tiktok.ipynb#W0sZmlsZQ%3D%3D?line=3'>4</a>\u001b[0m video_url \u001b[39m=\u001b[39m \u001b[39m'\u001b[39m\u001b[39mYhV5_Jan-yUL\u001b[39m\u001b[39m%\u001b[39m\u001b[39m3/\u001b[39m\u001b[39m'\u001b[39m\n",
      "\u001b[1;31mModuleNotFoundError\u001b[0m: No module named 'pytiktok'"
     ]
    }
   ],
   "source": [
    "from pytiktok import TikTok\n",
    "\n",
    "# Replace 'video_url' with the URL of the TikTok video you want to download\n",
    "video_url = 'YhV5_Jan-yUL%3/'\n",
    "\n",
    "# Create a TikTok object\n",
    "video = TikTok(video_url)\n",
    "\n",
    "# Set the download location\n",
    "download_path = './download'\n",
    "\n",
    "# Download the video\n",
    "video.download(save_path=download_path)\n",
    "\n",
    "print(f\"Video downloaded successfully.\")\n"
   ]
  }
 ],
 "metadata": {
  "kernelspec": {
   "display_name": "Python 3",
   "language": "python",
   "name": "python3"
  },
  "language_info": {
   "codemirror_mode": {
    "name": "ipython",
    "version": 3
   },
   "file_extension": ".py",
   "mimetype": "text/x-python",
   "name": "python",
   "nbconvert_exporter": "python",
   "pygments_lexer": "ipython3",
   "version": "3.11.5"
  }
 },
 "nbformat": 4,
 "nbformat_minor": 2
}
