{
 "cells": [
  {
   "cell_type": "code",
   "execution_count": 8,
   "metadata": {},
   "outputs": [
    {
     "ename": "ImportError",
     "evalue": "cannot import name 'TikTok' from 'pytiktok' (c:\\Users\\abdul\\AppData\\Local\\Programs\\Python\\Python311\\Lib\\site-packages\\pytiktok\\__init__.py)",
     "output_type": "error",
     "traceback": [
      "\u001b[1;31m---------------------------------------------------------------------------\u001b[0m",
      "\u001b[1;31mImportError\u001b[0m                               Traceback (most recent call last)",
      "\u001b[1;32md:\\PS\\python-projects\\Tiktok Video Downloader\\tiktok.ipynb Cell 1\u001b[0m line \u001b[0;36m1\n\u001b[1;32m----> <a href='vscode-notebook-cell:/d%3A/PS/python-projects/Tiktok%20Video%20Downloader/tiktok.ipynb#W0sZmlsZQ%3D%3D?line=0'>1</a>\u001b[0m \u001b[39mfrom\u001b[39;00m \u001b[39mpytiktok\u001b[39;00m \u001b[39mimport\u001b[39;00m TikTok\n\u001b[0;32m      <a href='vscode-notebook-cell:/d%3A/PS/python-projects/Tiktok%20Video%20Downloader/tiktok.ipynb#W0sZmlsZQ%3D%3D?line=2'>3</a>\u001b[0m \u001b[39m# Replace 'video_url' with the URL of the TikTok video you want to download\u001b[39;00m\n\u001b[0;32m      <a href='vscode-notebook-cell:/d%3A/PS/python-projects/Tiktok%20Video%20Downloader/tiktok.ipynb#W0sZmlsZQ%3D%3D?line=3'>4</a>\u001b[0m video_url \u001b[39m=\u001b[39m \u001b[39m'\u001b[39m\u001b[39mhttps://vt.tiktok.com/ZSN2wXgGA/\u001b[39m\u001b[39m'\u001b[39m\n",
      "\u001b[1;31mImportError\u001b[0m: cannot import name 'TikTok' from 'pytiktok' (c:\\Users\\abdul\\AppData\\Local\\Programs\\Python\\Python311\\Lib\\site-packages\\pytiktok\\__init__.py)"
     ]
    }
   ],
   "source": [
    "from pytiktok import TikTok\n",
    "\n",
    "# Replace 'video_url' with the URL of the TikTok video you want to download\n",
    "video_url = 'https://vt.tiktok.com/ZSN2wXgGA/'\n",
    "\n",
    "# Create a TikTok object\n",
    "video = TikTok(video_url)\n",
    "\n",
    "# Set the download location\n",
    "download_path = './download'\n",
    "\n",
    "# Download the video\n",
    "video.download(save_path=download_path)\n",
    "\n",
    "print(f\"Video downloaded successfully.\")\n"
   ]
  },
  {
   "cell_type": "code",
   "execution_count": 9,
   "metadata": {},
   "outputs": [
    {
     "name": "stdout",
     "output_type": "stream",
     "text": [
      "Video element not found on the page.\n"
     ]
    }
   ],
   "source": [
    "import requests\n",
    "from bs4 import BeautifulSoup\n",
    "\n",
    "# Replace 'video_url' with the URL of the TikTok video you want to download\n",
    "video_url = 'https://vt.tiktok.com/ZSN2wXgGA/'\n",
    "\n",
    "# Send an HTTP request to the TikTok video page\n",
    "response = requests.get(video_url)\n",
    "\n",
    "# Check if the request was successful\n",
    "if response.status_code == 200:\n",
    "    # Parse the HTML content of the page using Beautiful Soup\n",
    "    soup = BeautifulSoup(response.text, 'html.parser')\n",
    "    \n",
    "    # Find the video URL in the HTML\n",
    "    video_element = soup.find('video')\n",
    "    \n",
    "    # Extract the video URL\n",
    "    if video_element:\n",
    "        video_url = video_element['src']\n",
    "        print(f\"Video URL: {video_url}\")\n",
    "\n",
    "        # You can now download the video using this URL with a library like requests\n",
    "\n",
    "        # Example of downloading the video using requests\n",
    "        video_response = requests.get(video_url)\n",
    "        with open('downloaded_video.mp4', 'wb') as f:\n",
    "            f.write(video_response.content)\n",
    "    else:\n",
    "        print(\"Video element not found on the page.\")\n",
    "else:\n",
    "    print(f\"Failed to retrieve the TikTok page. Status code: {response.status_code}\")\n"
   ]
  }
 ],
 "metadata": {
  "kernelspec": {
   "display_name": "Python 3",
   "language": "python",
   "name": "python3"
  },
  "language_info": {
   "codemirror_mode": {
    "name": "ipython",
    "version": 3
   },
   "file_extension": ".py",
   "mimetype": "text/x-python",
   "name": "python",
   "nbconvert_exporter": "python",
   "pygments_lexer": "ipython3",
   "version": "3.11.5"
  }
 },
 "nbformat": 4,
 "nbformat_minor": 2
}
