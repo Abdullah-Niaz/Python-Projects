{
 "cells": [
  {
   "cell_type": "code",
   "execution_count": null,
   "metadata": {
    "id": "Pi83X_9qjbgy"
   },
   "outputs": [],
   "source": [
    "import folium"
   ]
  },
  {
   "cell_type": "code",
   "execution_count": null,
   "metadata": {
    "colab": {
     "base_uri": "https://localhost:8080/",
     "height": 712
    },
    "id": "8ND2XnB0u3ba",
    "outputId": "05abe752-cbc9-405f-ff97-530d9ae30cad"
   },
   "outputs": [],
   "source": [
    "map = folium.Map(location=[30.15,71.52])\n",
    "map.save(\"map.html\")"
   ]
  },
  {
   "cell_type": "code",
   "execution_count": null,
   "metadata": {
    "colab": {
     "base_uri": "https://localhost:8080/",
     "height": 712
    },
    "id": "5j6KmvPfvWGg",
    "outputId": "47e265d1-a10a-4454-ea0e-13a5d61ac9d6"
   },
   "outputs": [],
   "source": [
    "map.add_child(folium.Marker(location=[30.15,71.52], popup=\"Hi, I'm Multan\", icon=folium.Icon(color=\"green\")))\n",
    "map"
   ]
  },
  {
   "cell_type": "code",
   "execution_count": null,
   "metadata": {
    "colab": {
     "base_uri": "https://localhost:8080/",
     "height": 712
    },
    "id": "vgBVkc3Yy7pN",
    "outputId": "c0e4b4de-2b88-4e87-f57b-300f820a598c"
   },
   "outputs": [],
   "source": [
    "map.add_child(folium.Marker(location=[30.15,71.52], popup=\"I'm AB\", icon=folium.Icon(color=\"blue\")))\n",
    "map"
   ]
  },
  {
   "cell_type": "code",
   "execution_count": null,
   "metadata": {
    "colab": {
     "base_uri": "https://localhost:8080/",
     "height": 712
    },
    "id": "oK0uAYNgzZjZ",
    "outputId": "5ff4139d-cc5c-45b0-b71b-6583b4ee2d4d"
   },
   "outputs": [],
   "source": [
    "# in order to add muoltiple makers in the map by using the for loop\n",
    "# for coordinates in [[30.15,71.52],[32.15,72.52],[29.15,71.52],[31.15,71.52]]:\n",
    "#   map.add_child(folium.Marker(location=coordinates,popup=\"Hi,O\", icon=folium.Icon(color=\"blue\")))\n",
    "# map\n",
    "\n",
    "for coordinates in [[30.15,71.52],[32.15,72.52],[29.15,71.52],[31.15,71.52]]:\n",
    "  map.add_child(folium.Marker(location=coordinates, popup=\"Hi this is bzu\", icon=folium.Icon(color=\"chocolate\")))\n",
    "map.save(\"marker.html\")\n",
    "map"
   ]
  },
  {
   "cell_type": "code",
   "execution_count": null,
   "metadata": {},
   "outputs": [],
   "source": [
    "# File processing in folium\n",
    "import pandas\n",
    "import folium\n",
    "data = pandas.read_csv(\"location.csv\")\n",
    "# data\n",
    "lot = list(data[\"LON\"])\n",
    "lat = list(data[\"LAT\"])\n",
    "map = folium.Map(location=[29.33,71.22])\n",
    "for lo,la in zip(lot,lat):\n",
    "    map.add_child(folium.Marker(location=[lo,la],popup=\"Hi I am AB\", icon=folium.Icon(color='blue')))\n",
    "\n",
    "map.save(\"file processing.html\")\n",
    "map\n",
    "    \n"
   ]
  },
  {
   "cell_type": "code",
   "execution_count": null,
   "metadata": {},
   "outputs": [],
   "source": [
    "# if you want to add circle around your location\n",
    "m = folium.Map(location=[45.5236, -122.6750])\n",
    "m\n",
    "# m.add_child(folium.Marker(location=[29.45,45.4],popup=\"This is my house locatin\", icon=folium.Icon(color=\"blue\")))\n",
    "folium.Circle(\n",
    "    radius=100,\n",
    "    location=[45.5244, -122.6699],\n",
    "    popup=\"The Waterfront\",\n",
    "    color=\"crimson\",\n",
    "    fill=False,\n",
    ").add_to(m)\n",
    "\n",
    "folium.CircleMarker(\n",
    "    location=[45.5215, -122.6261],\n",
    "    radius=50,\n",
    "    popup=\"Laurelhurst Park\",\n",
    "    color=\"#3186cc\",\n",
    "    fill=True,\n",
    "    fill_color=\"#3186cc\",\n",
    ").add_to(m)\n",
    "m.save(\"circle.html\")"
   ]
  },
  {
   "cell_type": "code",
   "execution_count": null,
   "metadata": {},
   "outputs": [],
   "source": [
    "m.add_child(folium.LatLngPopup())\n",
    "m"
   ]
  },
  {
   "cell_type": "code",
   "execution_count": null,
   "metadata": {},
   "outputs": [],
   "source": [
    "m = folium.Map(location=[46.8527, -121.7649], tiles=\"Stamen Terrain\", zoom_start=13)\n",
    "folium.Marker([46.8354, -121.7325], popup=\"Camp Muir\").add_to(m)\n",
    "m.add_child(folium.ClickForMarker(popup=\"Waypoint\"))\n",
    "m"
   ]
  },
  {
   "cell_type": "code",
   "execution_count": null,
   "metadata": {},
   "outputs": [],
   "source": [
    "import json\n",
    "\n",
    "import requests\n",
    "\n",
    "url = (\n",
    "    \"https://raw.githubusercontent.com/python-visualization/folium/master/examples/data\"\n",
    ")\n",
    "vis1 = json.loads(requests.get(f\"{url}/vis1.json\").text)\n",
    "vis2 = json.loads(requests.get(f\"{url}/vis2.json\").text)\n",
    "vis3 = json.loads(requests.get(f\"{url}/vis3.json\").text)\n",
    "m = folium.Map(location=[46.3014, -123.7390], zoom_start=7, tiles=\"Stamen Terrain\")\n",
    "\n",
    "folium.Marker(\n",
    "    location=[47.3489, -124.708],\n",
    "    popup=folium.Popup(max_width=450).add_child(\n",
    "        folium.Vega(vis1, width=450, height=250)\n",
    "    ),\n",
    ").add_to(m)\n",
    "\n",
    "folium.Marker(\n",
    "    location=[44.639, -124.5339],\n",
    "    popup=folium.Popup(max_width=450).add_child(\n",
    "        folium.Vega(vis2, width=450, height=250)\n",
    "    ),\n",
    ").add_to(m)\n",
    "\n",
    "folium.Marker(\n",
    "    location=[46.216, -124.1280],\n",
    "    popup=folium.Popup(max_width=450).add_child(\n",
    "        folium.Vega(vis3, width=450, height=250)\n",
    "    ),\n",
    ").add_to(m)\n",
    "m.save(\"Vincent.html\")\n",
    "m"
   ]
  }
 ],
 "metadata": {
  "colab": {
   "collapsed_sections": [],
   "name": "Web Mapping in python.ipynb",
   "provenance": []
  },
  "kernelspec": {
   "display_name": "Python 3 (ipykernel)",
   "language": "python",
   "name": "python3"
  },
  "language_info": {
   "codemirror_mode": {
    "name": "ipython",
    "version": 3
   },
   "file_extension": ".py",
   "mimetype": "text/x-python",
   "name": "python",
   "nbconvert_exporter": "python",
   "pygments_lexer": "ipython3",
   "version": "3.9.7"
  }
 },
 "nbformat": 4,
 "nbformat_minor": 1
}
