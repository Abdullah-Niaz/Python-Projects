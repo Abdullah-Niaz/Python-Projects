{
    "cells": [
        {
            "cell_type": "code",
            "execution_count": 1,
            "metadata": {},
            "outputs": [
                {
                    "ename": "ModuleNotFoundError",
                    "evalue": "No module named 'folium'",
                    "output_type": "error",
                    "traceback": [
                        "\u001b[1;31m---------------------------------------------------------------------------\u001b[0m",
                        "\u001b[1;31mModuleNotFoundError\u001b[0m                       Traceback (most recent call last)",
                        "\u001b[1;32mc:\\Users\\Abdullah Niaz\\Desktop\\Python practies\\Python projects\\Web_mapping\\web_mapping.ipynb Cell 1'\u001b[0m in \u001b[0;36m<module>\u001b[1;34m\u001b[0m\n\u001b[1;32m----> <a href='vscode-notebook-cell:/c%3A/Users/Abdullah%20Niaz/Desktop/Python%20practies/Python%20projects/Web_mapping/web_mapping.ipynb#ch0000000?line=0'>1</a>\u001b[0m \u001b[39mimport\u001b[39;00m \u001b[39mfolium\u001b[39;00m\n",
                        "\u001b[1;31mModuleNotFoundError\u001b[0m: No module named 'folium'"
                    ]
                }
            ],
            "source": [
                "import folium"
            ]
        },
        {
            "cell_type": "code",
            "execution_count": null,
            "metadata": {},
            "outputs": [
                {
                    "ename": "",
                    "evalue": "",
                    "output_type": "error",
                    "traceback": [
                        "\u001b[1;31mRunning cells with 'Python 3.9.10 64-bit' requires ipykernel package.\n",
                        "Run the following command to install 'ipykernel' into the Python environment. \n",
                        "Command: '\"C:/Program Files/WindowsApps/PythonSoftwareFoundation.Python.3.9_3.9.2800.0_x64__qbz5n2kfra8p0/python3.9.exe\" -m pip install ipykernel -U --user --force-reinstall'"
                    ]
                }
            ],
            "source": [
                "map = folium.Map(location=[30.15,71.52])\n",
                "map\n",
                "map.save(\"map.html\")"
            ]
        },
        {
            "cell_type": "code",
            "execution_count": null,
            "metadata": {},
            "outputs": [],
            "source": [
                "map.add_child(folium.Marker(location=[30.15,71.52], popup=\"Hi, I'm Multan\", icon=folium.Icon(color=\"#94bbe9\")))\n",
                "map\n",
                "map.save(\"map.html\")"
            ]
        },
        {
            "cell_type": "code",
            "execution_count": null,
            "metadata": {},
            "outputs": [
                {
                    "ename": "",
                    "evalue": "",
                    "output_type": "error",
                    "traceback": [
                        "\u001b[1;31mRunning cells with 'Python 3.9.10 64-bit' requires ipykernel package.\n",
                        "Run the following command to install 'ipykernel' into the Python environment. \n",
                        "Command: '\"C:/Program Files/WindowsApps/PythonSoftwareFoundation.Python.3.9_3.9.2800.0_x64__qbz5n2kfra8p0/python3.9.exe\" -m pip install ipykernel -U --user --force-reinstall'"
                    ]
                }
            ],
            "source": [
                "map.add_child(folium.Marker(location=[30.15,71.52], popup=\"I'm AB\", icon=folium.Icon(color=\"blue\")))\n",
                "map\n",
                "map.save(\"map.html\")"
            ]
        },
        {
            "cell_type": "code",
            "execution_count": null,
            "metadata": {},
            "outputs": [
                {
                    "ename": "",
                    "evalue": "",
                    "output_type": "error",
                    "traceback": [
                        "\u001b[1;31mRunning cells with 'Python 3.9.10 64-bit' requires ipykernel package.\n",
                        "Run the following command to install 'ipykernel' into the Python environment. \n",
                        "Command: '\"C:/Program Files/WindowsApps/PythonSoftwareFoundation.Python.3.9_3.9.2800.0_x64__qbz5n2kfra8p0/python3.9.exe\" -m pip install ipykernel -U --user --force-reinstall'"
                    ]
                }
            ],
            "source": [
                "# in order to add muoltiple makers in the map by using the for loop\n",
                "for coordinates in [[30.15,71.52],[32.15,72.52],[29.15,71.52],[31.15,71.52]]:\n",
                "  map.add_child(folium.Marker(location=coordinates,popup=\"Hi,O\", icon=folium.Icon(color=\"blue\")))\n",
                "map\n",
                "map.save(\"map.html\")"
            ]
        },
        {
            "cell_type": "code",
            "execution_count": null,
            "metadata": {},
            "outputs": [],
            "source": []
        }
    ],
    "metadata": {
        "interpreter": {
            "hash": "35d26494ada2b57f6c771dec47c007b9ed5c8ba1cdb7b95dbee9abb2181120e2"
        },
        "kernelspec": {
            "display_name": "Python 3.9.7 ('base')",
            "language": "python",
            "name": "python3"
        },
        "language_info": {
            "codemirror_mode": {
                "name": "ipython",
                "version": 3
            },
            "file_extension": ".py",
            "mimetype": "text/x-python",
            "name": "python",
            "nbconvert_exporter": "python",
            "pygments_lexer": "ipython3",
            "version": "3.10.2"
        },
        "orig_nbformat": 4
    },
    "nbformat": 4,
    "nbformat_minor": 2
}