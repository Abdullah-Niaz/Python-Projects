{
 "cells": [
  {
   "cell_type": "code",
   "execution_count": 4,
   "metadata": {},
   "outputs": [
    {
     "name": "stdout",
     "output_type": "stream",
     "text": [
      "Video 'BeautifulSoup - findall() Function with Tags and Attributes - Web Scraping Tutorials (English)' downloaded successfully.\n"
     ]
    }
   ],
   "source": [
    "from pytube import YouTube\n",
    "\n",
    "# Replace 'video_url' with the URL of the YouTube video you want to download\n",
    "video_url = 'https://www.youtube.com/watch?v=AI410xvHWJg&list=PLc20sA5NNOvrsn3a78ewy2VTCXVV47NB4&index=11&ab_channel=WsCubeTech%21ENGLISH'\n",
    "\n",
    "# Create a YouTube object\n",
    "yt = YouTube(video_url)\n",
    "\n",
    "# Choose the stream with the desired resolution and file type\n",
    "# For example, to get the highest resolution stream in mp4 format:\n",
    "video_stream = yt.streams.get_highest_resolution()\n",
    "\n",
    "# Set the download location\n",
    "download_path = './download/'\n",
    "\n",
    "# Download the video\n",
    "video_stream.download(output_path=download_path)\n",
    "\n",
    "print(f\"Video '{yt.title}' downloaded successfully.\")\n"
   ]
  }
 ],
 "metadata": {
  "kernelspec": {
   "display_name": "Python 3",
   "language": "python",
   "name": "python3"
  },
  "language_info": {
   "codemirror_mode": {
    "name": "ipython",
    "version": 3
   },
   "file_extension": ".py",
   "mimetype": "text/x-python",
   "name": "python",
   "nbconvert_exporter": "python",
   "pygments_lexer": "ipython3",
   "version": "3.11.5"
  }
 },
 "nbformat": 4,
 "nbformat_minor": 2
}
