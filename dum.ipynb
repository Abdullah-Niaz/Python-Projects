{
 "cells": [
  {
   "cell_type": "code",
   "execution_count": 9,
   "metadata": {},
   "outputs": [
    {
     "name": "stdout",
     "output_type": "stream",
     "text": [
      "The matrix is in reduced row echelon form.\n"
     ]
    }
   ],
   "source": [
    "import numpy as np\n",
    "\n",
    "def is_row_echelon_form(matrix):\n",
    "    rows, cols = matrix.shape\n",
    "    leading_col = -1  # Initialize the leading column index to -1.\n",
    "\n",
    "    for row in range(rows):\n",
    "        for col in range(cols):\n",
    "            if matrix[row][col] != 0:\n",
    "                if col <= leading_col:\n",
    "                    return False\n",
    "                leading_col = col\n",
    "                break\n",
    "\n",
    "    return True\n",
    "\n",
    "def is_reduced_row_echelon_form(matrix):\n",
    "    if not is_row_echelon_form(matrix):\n",
    "        return False\n",
    "\n",
    "    rows, cols = matrix.shape\n",
    "    for row in range(rows):\n",
    "        leading_col = -1\n",
    "        for col in range(cols):\n",
    "            if matrix[row][col] != 0:\n",
    "                if col <= leading_col:\n",
    "                    return False\n",
    "                if matrix[row][col] != 1:\n",
    "                    return False\n",
    "                leading_col = col\n",
    "                break\n",
    "\n",
    "    return True\n",
    "\n",
    "# Example usage:\n",
    "matrix = np.array([[1, 2, 3],\n",
    "                  [0, 1, 4],\n",
    "                  [0, 0, 1]])\n",
    "\n",
    "if is_reduced_row_echelon_form(matrix):\n",
    "    print(\"The matrix is in reduced row echelon form.\")\n",
    "elif is_row_echelon_form(matrix):\n",
    "    print(\"The matrix is in row echelon form.\")\n",
    "else:\n",
    "    print(\"The matrix is not in row echelon form.\")\n"
   ]
  }
 ],
 "metadata": {
  "kernelspec": {
   "display_name": "Python 3",
   "language": "python",
   "name": "python3"
  },
  "language_info": {
   "codemirror_mode": {
    "name": "ipython",
    "version": 3
   },
   "file_extension": ".py",
   "mimetype": "text/x-python",
   "name": "python",
   "nbconvert_exporter": "python",
   "pygments_lexer": "ipython3",
   "version": "3.12.0"
  }
 },
 "nbformat": 4,
 "nbformat_minor": 2
}
